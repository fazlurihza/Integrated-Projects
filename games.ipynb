{
 "cells": [
  {
   "cell_type": "markdown",
   "metadata": {},
   "source": [
    "<div style=\"border:solid black 2px; padding: 20px\">\n",
    "\n",
    "# Reviewer's Introduction\n",
    "\n",
    "Halo Fazlur!\n",
    "\n",
    "Saya Yosef, pada kesempatan kali ini saya akan memeriksa proyek kamu.\n",
    "\n",
    "Kamu bisa melihat komentar saya di bagian bawah kode - tolong **jangan dipindah, diubah, atau dihapus** ya supaya saya bisa cek kembali ketika sudah kamu perbaiki.\n",
    "    \n",
    "Komentar dari saya bisa dalam kotak berwarna hijau, kuning, atau merah sebagai berikut\n",
    "\n",
    "<div class=\"alert alert-block alert-success\">\n",
    "<b>Reviewer's comment</b> <a class=\"tocSkip\"></a>\n",
    "\n",
    "Bagus, semua berjalan lancar.\n",
    "</div>\n",
    "\n",
    "<div class=\"alert alert-block alert-warning\">\n",
    "<b>Reviewer's comment</b> <a class=\"tocSkip\"></a>\n",
    "\n",
    "Ada catatan.\n",
    "</div>\n",
    "\n",
    "<div class=\"alert alert-block alert-danger\">\n",
    "\n",
    "<b>Reviewer's comment</b> <a class=\"tocSkip\"></a>\n",
    "\n",
    "Perlu perbaikan.\n",
    "</div>\n",
    "\n",
    "Fazlur bisa merespon komentar saya dengan kotak berwarna biru, seperti ini\n",
    "\n",
    "<div class=\"alert alert-block alert-info\">\n",
    "<b>Student's comment</b> <a class=\"tocSkip\"></a>\n",
    "    \n",
    "Baik kak. <a class=\"tocSkip\"></a>\n",
    "</div>\n",
    "    \n",
    "Mohon diingat beberapa hal penting terkait proyek ini:\n",
    "- proyek belum bisa diterima jika masih ada komentar dengan kotak berwarna merah\n",
    "- tenang saja, kamu punya 3 kali kesempatan memperbaiki\n",
    "- tapi ingat, pada setiap kesempatan kamu punya waktu maksimal 1 x 24 jam untuk memperbaiki proyek ya\n",
    "    \n",
    "</div>\n"
   ]
  },
  {
   "cell_type": "markdown",
   "metadata": {},
   "source": [
    "<div style=\"border:solid black 1px; padding: 20px\" class=\"alert alert-block alert-warning\">\n",
    "    \n",
    "# Reviewer's general feedback #1\n",
    "\n",
    "Terima kasih sudah mengirimkan proyek ini!\n",
    "    \n",
    "Secara umum proyek kamu sudah **sangat baik** dengan kode yang efisien dan analisis yang lengkap. Hanya ada beberapa catatan yang bisa kamu perbaiki dengan mudah. Catatan saya bisa kamu periksa pada kotak berwarna kuning atau merah ya. Setelah kamu memperbaiki catatan tersebut, proyek ini bisa diterima.\n",
    "    \n",
    "Jika kamu memiliki pertanyaan, kamu bisa merespon dengan menggunakan kotak berwarna biru seperti yang sudah dicontohkan di atas.\n",
    "    \n",
    "Semangat selalu, Fazlur!\n",
    "</div>"
   ]
  },
  {
   "cell_type": "markdown",
   "metadata": {},
   "source": [
    "<div style=\"border:solid black 1px; padding: 20px\" class=\"alert alert-block alert-success\">\n",
    "    \n",
    "# Reviewer's general feedback #2\n",
    "\n",
    "Terima kasih sudah memperbaiki proyek ini!\n",
    "    \n",
    "Semua catatan sudah kamu perbaiki dengan baik dan sekarang proyek sudah bisa diterima. Semoga kamu semakin memahami bagaimana melakukan analisis dari awal hingga akhir menggunakan python, termasuk melakukan uji hipotesis ya. Terus semangat dalam perjalanan belajarmu!\n",
    "</div>"
   ]
  },
  {
   "cell_type": "markdown",
   "metadata": {},
   "source": [
    "**Pendahuluan**\n",
    "\n",
    "Dalam era digital yang semakin berkembang, industri permainan video telah menjadi salah satu sektor hiburan terbesar di dunia. Video game tidak hanya menjadi sarana hiburan, tetapi juga merupakan industri dengan potensi keuntungan yang sangat tinggi. Di tengah pertumbuhan pesat teknologi dan platform yang beragam, pengembang dan penerbit game perlu memahami tren dan faktor-faktor yang dapat mempengaruhi kesuksesan suatu game.\n",
    "\n",
    "Dalam proyek ini, saya akan menganalisis data penjualan video game dari tahun 2016. Data ini mencakup berbagai informasi seperti platform, tahun rilis, genre, ulasan kritikus dan pengguna, serta rating ESRB (Entertainment Software Rating Board). Tujuan utama dari analisis ini adalah untuk mengidentifikasi pola-pola yang dapat membantu dalam merencanakan strategi pemasaran dan pengembangan game yang lebih efektif.\n",
    "\n",
    "Pada tahap pertama, saya akan mempersiapkan data dengan membersihkan dan mengubah format kolom-kolom yang diperlukan. Selanjutnya, saya akan melakukan analisis yang mendalam terkait beberapa aspek penting:\n",
    "\n",
    "* Platform dan Penjualan: Saya akan menganalisis penjualan berdasarkan platform yang berbeda, mengidentifikasi platform-platform yang memiliki penjualan tertinggi dan bagaimana preferensi ini bervariasi di berbagai wilayah.\n",
    "\n",
    "* Genre dan Penjualan: Saya akan mengevaluasi genre-genre yang paling menguntungkan, mengidentifikasi genre yang paling diminati di berbagai wilayah, serta apakah preferensi genre mempengaruhi penjualan.\n",
    "\n",
    "* Ulasan Pengguna dan Penjualan: Saya akan mengevaluasi apakah terdapat korelasi antara ulasan pengguna dan penjualan game. Dengan demikian, saya akan menilai sejauh mana ulasan pengguna dapat memprediksi kesuksesan penjualan.\n",
    "\n",
    "* Rating ESRB dan Penjualan: Saya akan menganalisis pengaruh rating ESRB terhadap penjualan game di berbagai wilayah, sehingga dapat membantu dalam merencanakan strategi pemasaran yang sesuai dengan klasifikasi rating.\n",
    "\n",
    "Dalam tahap akhir, saya akan menyimpulkan hasil analisis serta memberikan pandangan holistik terhadap faktor-faktor yang dapat memengaruhi kesuksesan game di tahun 2017. Diharapkan hasil analisis ini dapat memberikan wawasan yang berharga bagi pengembang dan penerbit game dalam mengambil keputusan strategis yang lebih baik."
   ]
  },
  {
   "cell_type": "markdown",
   "metadata": {},
   "source": [
    "<div class=\"alert alert-block alert-danger\">\n",
    "\n",
    "<b>Reviewer's comment #1</b> <a class=\"tocSkip\"></a>\n",
    "\n",
    "Pada bagian awal notebook kamu perlu menuliskan pendahuluan yang bisa berisi dekripsi, tahapan, dan tujuan proyek sesuai kata-katamu sendiri ya.\n",
    "</div>"
   ]
  },
  {
   "cell_type": "markdown",
   "metadata": {},
   "source": [
    "<div class=\"alert alert-block alert-info\">\n",
    "<b>Student's comment</b> <a class=\"tocSkip\"></a>\n",
    "    \n",
    "Baik kak. <a class=\"tocSkip\"></a>\n",
    "</div>"
   ]
  },
  {
   "cell_type": "markdown",
   "metadata": {},
   "source": [
    "<div class=\"alert alert-block alert-success\">\n",
    "\n",
    "<b>Reviewer's comment #2</b> <a class=\"tocSkip\"></a>\n",
    "\n",
    "Mantap, sudah sangat lengkap.\n",
    "</div>"
   ]
  },
  {
   "cell_type": "markdown",
   "metadata": {},
   "source": [
    "**Mempersiapkan Data**"
   ]
  },
  {
   "cell_type": "code",
   "execution_count": 1,
   "metadata": {},
   "outputs": [],
   "source": [
    "import pandas as pd\n",
    "import matplotlib.pyplot as plt\n",
    "import seaborn as sns\n",
    "from scipy.stats import ttest_ind"
   ]
  },
  {
   "cell_type": "markdown",
   "metadata": {},
   "source": [
    "<div class=\"alert alert-block alert-success\">\n",
    "\n",
    "<b>Reviewer's comment #1</b> <a class=\"tocSkip\"></a>\n",
    "\n",
    "Pemuatan library sudah bagus.\n",
    "</div>"
   ]
  },
  {
   "cell_type": "code",
   "execution_count": 2,
   "metadata": {},
   "outputs": [],
   "source": [
    "games = pd.read_csv('/datasets/games.csv')"
   ]
  },
  {
   "cell_type": "markdown",
   "metadata": {},
   "source": [
    "<div class=\"alert alert-block alert-success\">\n",
    "\n",
    "<b>Reviewer's comment #1</b> <a class=\"tocSkip\"></a>\n",
    "\n",
    "Pemuatan dataset sudah bagus.\n",
    "</div>"
   ]
  },
  {
   "cell_type": "code",
   "execution_count": 3,
   "metadata": {
    "scrolled": false
   },
   "outputs": [
    {
     "data": {
      "text/html": [
       "<div>\n",
       "<style scoped>\n",
       "    .dataframe tbody tr th:only-of-type {\n",
       "        vertical-align: middle;\n",
       "    }\n",
       "\n",
       "    .dataframe tbody tr th {\n",
       "        vertical-align: top;\n",
       "    }\n",
       "\n",
       "    .dataframe thead th {\n",
       "        text-align: right;\n",
       "    }\n",
       "</style>\n",
       "<table border=\"1\" class=\"dataframe\">\n",
       "  <thead>\n",
       "    <tr style=\"text-align: right;\">\n",
       "      <th></th>\n",
       "      <th>Name</th>\n",
       "      <th>Platform</th>\n",
       "      <th>Year_of_Release</th>\n",
       "      <th>Genre</th>\n",
       "      <th>NA_sales</th>\n",
       "      <th>EU_sales</th>\n",
       "      <th>JP_sales</th>\n",
       "      <th>Other_sales</th>\n",
       "      <th>Critic_Score</th>\n",
       "      <th>User_Score</th>\n",
       "      <th>Rating</th>\n",
       "    </tr>\n",
       "  </thead>\n",
       "  <tbody>\n",
       "    <tr>\n",
       "      <th>0</th>\n",
       "      <td>Wii Sports</td>\n",
       "      <td>Wii</td>\n",
       "      <td>2006.0</td>\n",
       "      <td>Sports</td>\n",
       "      <td>41.36</td>\n",
       "      <td>28.96</td>\n",
       "      <td>3.77</td>\n",
       "      <td>8.45</td>\n",
       "      <td>76.0</td>\n",
       "      <td>8</td>\n",
       "      <td>E</td>\n",
       "    </tr>\n",
       "    <tr>\n",
       "      <th>1</th>\n",
       "      <td>Super Mario Bros.</td>\n",
       "      <td>NES</td>\n",
       "      <td>1985.0</td>\n",
       "      <td>Platform</td>\n",
       "      <td>29.08</td>\n",
       "      <td>3.58</td>\n",
       "      <td>6.81</td>\n",
       "      <td>0.77</td>\n",
       "      <td>NaN</td>\n",
       "      <td>NaN</td>\n",
       "      <td>NaN</td>\n",
       "    </tr>\n",
       "    <tr>\n",
       "      <th>2</th>\n",
       "      <td>Mario Kart Wii</td>\n",
       "      <td>Wii</td>\n",
       "      <td>2008.0</td>\n",
       "      <td>Racing</td>\n",
       "      <td>15.68</td>\n",
       "      <td>12.76</td>\n",
       "      <td>3.79</td>\n",
       "      <td>3.29</td>\n",
       "      <td>82.0</td>\n",
       "      <td>8.3</td>\n",
       "      <td>E</td>\n",
       "    </tr>\n",
       "    <tr>\n",
       "      <th>3</th>\n",
       "      <td>Wii Sports Resort</td>\n",
       "      <td>Wii</td>\n",
       "      <td>2009.0</td>\n",
       "      <td>Sports</td>\n",
       "      <td>15.61</td>\n",
       "      <td>10.93</td>\n",
       "      <td>3.28</td>\n",
       "      <td>2.95</td>\n",
       "      <td>80.0</td>\n",
       "      <td>8</td>\n",
       "      <td>E</td>\n",
       "    </tr>\n",
       "    <tr>\n",
       "      <th>4</th>\n",
       "      <td>Pokemon Red/Pokemon Blue</td>\n",
       "      <td>GB</td>\n",
       "      <td>1996.0</td>\n",
       "      <td>Role-Playing</td>\n",
       "      <td>11.27</td>\n",
       "      <td>8.89</td>\n",
       "      <td>10.22</td>\n",
       "      <td>1.00</td>\n",
       "      <td>NaN</td>\n",
       "      <td>NaN</td>\n",
       "      <td>NaN</td>\n",
       "    </tr>\n",
       "  </tbody>\n",
       "</table>\n",
       "</div>"
      ],
      "text/plain": [
       "                       Name Platform  Year_of_Release         Genre  NA_sales  \\\n",
       "0                Wii Sports      Wii           2006.0        Sports     41.36   \n",
       "1         Super Mario Bros.      NES           1985.0      Platform     29.08   \n",
       "2            Mario Kart Wii      Wii           2008.0        Racing     15.68   \n",
       "3         Wii Sports Resort      Wii           2009.0        Sports     15.61   \n",
       "4  Pokemon Red/Pokemon Blue       GB           1996.0  Role-Playing     11.27   \n",
       "\n",
       "   EU_sales  JP_sales  Other_sales  Critic_Score User_Score Rating  \n",
       "0     28.96      3.77         8.45          76.0          8      E  \n",
       "1      3.58      6.81         0.77           NaN        NaN    NaN  \n",
       "2     12.76      3.79         3.29          82.0        8.3      E  \n",
       "3     10.93      3.28         2.95          80.0          8      E  \n",
       "4      8.89     10.22         1.00           NaN        NaN    NaN  "
      ]
     },
     "execution_count": 3,
     "metadata": {},
     "output_type": "execute_result"
    }
   ],
   "source": [
    "games.head()"
   ]
  },
  {
   "cell_type": "code",
   "execution_count": 4,
   "metadata": {
    "scrolled": true
   },
   "outputs": [
    {
     "name": "stdout",
     "output_type": "stream",
     "text": [
      "<class 'pandas.core.frame.DataFrame'>\n",
      "RangeIndex: 16715 entries, 0 to 16714\n",
      "Data columns (total 11 columns):\n",
      " #   Column           Non-Null Count  Dtype  \n",
      "---  ------           --------------  -----  \n",
      " 0   Name             16713 non-null  object \n",
      " 1   Platform         16715 non-null  object \n",
      " 2   Year_of_Release  16446 non-null  float64\n",
      " 3   Genre            16713 non-null  object \n",
      " 4   NA_sales         16715 non-null  float64\n",
      " 5   EU_sales         16715 non-null  float64\n",
      " 6   JP_sales         16715 non-null  float64\n",
      " 7   Other_sales      16715 non-null  float64\n",
      " 8   Critic_Score     8137 non-null   float64\n",
      " 9   User_Score       10014 non-null  object \n",
      " 10  Rating           9949 non-null   object \n",
      "dtypes: float64(6), object(5)\n",
      "memory usage: 1.4+ MB\n"
     ]
    }
   ],
   "source": [
    "games.info()"
   ]
  },
  {
   "cell_type": "code",
   "execution_count": 26,
   "metadata": {},
   "outputs": [
    {
     "data": {
      "text/html": [
       "<div>\n",
       "<style scoped>\n",
       "    .dataframe tbody tr th:only-of-type {\n",
       "        vertical-align: middle;\n",
       "    }\n",
       "\n",
       "    .dataframe tbody tr th {\n",
       "        vertical-align: top;\n",
       "    }\n",
       "\n",
       "    .dataframe thead th {\n",
       "        text-align: right;\n",
       "    }\n",
       "</style>\n",
       "<table border=\"1\" class=\"dataframe\">\n",
       "  <thead>\n",
       "    <tr style=\"text-align: right;\">\n",
       "      <th></th>\n",
       "      <th>na_sales</th>\n",
       "      <th>eu_sales</th>\n",
       "      <th>jp_sales</th>\n",
       "      <th>other_sales</th>\n",
       "      <th>critic_score</th>\n",
       "      <th>user_score</th>\n",
       "      <th>total_sales</th>\n",
       "    </tr>\n",
       "  </thead>\n",
       "  <tbody>\n",
       "    <tr>\n",
       "      <th>count</th>\n",
       "      <td>16715.000000</td>\n",
       "      <td>16715.000000</td>\n",
       "      <td>16715.000000</td>\n",
       "      <td>16715.000000</td>\n",
       "      <td>8137.000000</td>\n",
       "      <td>16715.000000</td>\n",
       "      <td>16715.000000</td>\n",
       "    </tr>\n",
       "    <tr>\n",
       "      <th>mean</th>\n",
       "      <td>0.263377</td>\n",
       "      <td>0.145060</td>\n",
       "      <td>0.077617</td>\n",
       "      <td>0.047342</td>\n",
       "      <td>68.967679</td>\n",
       "      <td>7.125046</td>\n",
       "      <td>0.533396</td>\n",
       "    </tr>\n",
       "    <tr>\n",
       "      <th>std</th>\n",
       "      <td>0.813604</td>\n",
       "      <td>0.503339</td>\n",
       "      <td>0.308853</td>\n",
       "      <td>0.186731</td>\n",
       "      <td>13.938165</td>\n",
       "      <td>1.010753</td>\n",
       "      <td>1.548261</td>\n",
       "    </tr>\n",
       "    <tr>\n",
       "      <th>min</th>\n",
       "      <td>0.000000</td>\n",
       "      <td>0.000000</td>\n",
       "      <td>0.000000</td>\n",
       "      <td>0.000000</td>\n",
       "      <td>13.000000</td>\n",
       "      <td>0.000000</td>\n",
       "      <td>0.000000</td>\n",
       "    </tr>\n",
       "    <tr>\n",
       "      <th>25%</th>\n",
       "      <td>0.000000</td>\n",
       "      <td>0.000000</td>\n",
       "      <td>0.000000</td>\n",
       "      <td>0.000000</td>\n",
       "      <td>60.000000</td>\n",
       "      <td>7.125046</td>\n",
       "      <td>0.060000</td>\n",
       "    </tr>\n",
       "    <tr>\n",
       "      <th>50%</th>\n",
       "      <td>0.080000</td>\n",
       "      <td>0.020000</td>\n",
       "      <td>0.000000</td>\n",
       "      <td>0.010000</td>\n",
       "      <td>71.000000</td>\n",
       "      <td>7.125046</td>\n",
       "      <td>0.170000</td>\n",
       "    </tr>\n",
       "    <tr>\n",
       "      <th>75%</th>\n",
       "      <td>0.240000</td>\n",
       "      <td>0.110000</td>\n",
       "      <td>0.040000</td>\n",
       "      <td>0.030000</td>\n",
       "      <td>79.000000</td>\n",
       "      <td>7.300000</td>\n",
       "      <td>0.470000</td>\n",
       "    </tr>\n",
       "    <tr>\n",
       "      <th>max</th>\n",
       "      <td>41.360000</td>\n",
       "      <td>28.960000</td>\n",
       "      <td>10.220000</td>\n",
       "      <td>10.570000</td>\n",
       "      <td>98.000000</td>\n",
       "      <td>9.700000</td>\n",
       "      <td>82.540000</td>\n",
       "    </tr>\n",
       "  </tbody>\n",
       "</table>\n",
       "</div>"
      ],
      "text/plain": [
       "           na_sales      eu_sales      jp_sales   other_sales  critic_score  \\\n",
       "count  16715.000000  16715.000000  16715.000000  16715.000000   8137.000000   \n",
       "mean       0.263377      0.145060      0.077617      0.047342     68.967679   \n",
       "std        0.813604      0.503339      0.308853      0.186731     13.938165   \n",
       "min        0.000000      0.000000      0.000000      0.000000     13.000000   \n",
       "25%        0.000000      0.000000      0.000000      0.000000     60.000000   \n",
       "50%        0.080000      0.020000      0.000000      0.010000     71.000000   \n",
       "75%        0.240000      0.110000      0.040000      0.030000     79.000000   \n",
       "max       41.360000     28.960000     10.220000     10.570000     98.000000   \n",
       "\n",
       "         user_score   total_sales  \n",
       "count  16715.000000  16715.000000  \n",
       "mean       7.125046      0.533396  \n",
       "std        1.010753      1.548261  \n",
       "min        0.000000      0.000000  \n",
       "25%        7.125046      0.060000  \n",
       "50%        7.125046      0.170000  \n",
       "75%        7.300000      0.470000  \n",
       "max        9.700000     82.540000  "
      ]
     },
     "execution_count": 26,
     "metadata": {},
     "output_type": "execute_result"
    }
   ],
   "source": [
    "games.describe()"
   ]
  },
  {
   "cell_type": "markdown",
   "metadata": {},
   "source": [
    "<div class=\"alert alert-block alert-warning\">\n",
    "\n",
    "<b>Reviewer's comment #1</b> <a class=\"tocSkip\"></a>\n",
    "\n",
    "Selain `.head()`, kamu juga perlu menggunakan `.info()` dan `.describe()` sebagai fungsi yang dapat membantu eksplorasi awal ya.\n",
    "</div>"
   ]
  },
  {
   "cell_type": "markdown",
   "metadata": {},
   "source": [
    "<div class=\"alert alert-block alert-info\">\n",
    "<b>Student's comment</b> <a class=\"tocSkip\"></a>\n",
    "    \n",
    "Baik kak. <a class=\"tocSkip\"></a>\n",
    "</div>"
   ]
  },
  {
   "cell_type": "markdown",
   "metadata": {},
   "source": [
    "<div class=\"alert alert-block alert-success\">\n",
    "\n",
    "<b>Reviewer's comment #2</b> <a class=\"tocSkip\"></a>\n",
    "\n",
    "Sip.\n",
    "</div>"
   ]
  },
  {
   "cell_type": "code",
   "execution_count": 5,
   "metadata": {},
   "outputs": [],
   "source": [
    "# Ubah Nama Kolom Menjadi Huruf Kecil\n",
    "games.columns = games.columns.str.lower()"
   ]
  },
  {
   "cell_type": "markdown",
   "metadata": {},
   "source": [
    "<div class=\"alert alert-block alert-success\">\n",
    "\n",
    "<b>Reviewer's comment #1</b> <a class=\"tocSkip\"></a>\n",
    "\n",
    "Perbaikan nama kolom sudah bagus.\n",
    "</div>"
   ]
  },
  {
   "cell_type": "code",
   "execution_count": 6,
   "metadata": {},
   "outputs": [],
   "source": [
    "# Konversi Tipe Data\n",
    "games['year_of_release'] = pd.to_datetime(games['year_of_release'], format='%Y')"
   ]
  },
  {
   "cell_type": "markdown",
   "metadata": {},
   "source": [
    "<div class=\"alert alert-block alert-success\">\n",
    "\n",
    "<b>Reviewer's comment #1</b> <a class=\"tocSkip\"></a>\n",
    "\n",
    "Konversi tahun sudah bagus, bisa juga dikonversi menjadi integer karena hanya tahun.\n",
    "</div>"
   ]
  },
  {
   "cell_type": "code",
   "execution_count": 7,
   "metadata": {},
   "outputs": [
    {
     "name": "stdout",
     "output_type": "stream",
     "text": [
      "name                  2\n",
      "platform              0\n",
      "year_of_release     269\n",
      "genre                 2\n",
      "na_sales              0\n",
      "eu_sales              0\n",
      "jp_sales              0\n",
      "other_sales           0\n",
      "critic_score       8578\n",
      "user_score         6701\n",
      "rating             6766\n",
      "dtype: int64\n"
     ]
    }
   ],
   "source": [
    "# Penanganan Nilai Hilang\n",
    "missing_values = games.isnull().sum()\n",
    "print(missing_values)"
   ]
  },
  {
   "cell_type": "markdown",
   "metadata": {},
   "source": [
    "<div class=\"alert alert-block alert-success\">\n",
    "\n",
    "<b>Reviewer's comment #1</b> <a class=\"tocSkip\"></a>\n",
    "\n",
    "Pemeriksaan nilai hilang sudah bagus.\n",
    "</div>"
   ]
  },
  {
   "cell_type": "markdown",
   "metadata": {},
   "source": [
    "Untuk kasus nilai 'tbd' (to be determined) pada kolom user_score, saya mengubahnya menjadi NaN terlebih dahulu dan kemudian mengisi nilai yang hilang dengan rata-rata dari kolom tersebut."
   ]
  },
  {
   "cell_type": "code",
   "execution_count": 8,
   "metadata": {},
   "outputs": [],
   "source": [
    "games['user_score'] = pd.to_numeric(games['user_score'], errors='coerce')\n",
    "average_user_score = games['user_score'].mean()\n",
    "games['user_score'].fillna(average_user_score, inplace=True)"
   ]
  },
  {
   "cell_type": "markdown",
   "metadata": {},
   "source": [
    "<div class=\"alert alert-block alert-success\">\n",
    "\n",
    "<b>Reviewer's comment #1</b> <a class=\"tocSkip\"></a>\n",
    "\n",
    "Oke.\n",
    "</div>"
   ]
  },
  {
   "cell_type": "code",
   "execution_count": 9,
   "metadata": {},
   "outputs": [],
   "source": [
    "# Hitung Total Penjualan\n",
    "games['total_sales'] = games['na_sales'] + games['eu_sales'] + games['jp_sales'] + games['other_sales']"
   ]
  },
  {
   "cell_type": "code",
   "execution_count": 10,
   "metadata": {
    "scrolled": true
   },
   "outputs": [
    {
     "data": {
      "text/html": [
       "<div>\n",
       "<style scoped>\n",
       "    .dataframe tbody tr th:only-of-type {\n",
       "        vertical-align: middle;\n",
       "    }\n",
       "\n",
       "    .dataframe tbody tr th {\n",
       "        vertical-align: top;\n",
       "    }\n",
       "\n",
       "    .dataframe thead th {\n",
       "        text-align: right;\n",
       "    }\n",
       "</style>\n",
       "<table border=\"1\" class=\"dataframe\">\n",
       "  <thead>\n",
       "    <tr style=\"text-align: right;\">\n",
       "      <th></th>\n",
       "      <th>name</th>\n",
       "      <th>platform</th>\n",
       "      <th>year_of_release</th>\n",
       "      <th>genre</th>\n",
       "      <th>na_sales</th>\n",
       "      <th>eu_sales</th>\n",
       "      <th>jp_sales</th>\n",
       "      <th>other_sales</th>\n",
       "      <th>critic_score</th>\n",
       "      <th>user_score</th>\n",
       "      <th>rating</th>\n",
       "      <th>total_sales</th>\n",
       "    </tr>\n",
       "  </thead>\n",
       "  <tbody>\n",
       "    <tr>\n",
       "      <th>0</th>\n",
       "      <td>Wii Sports</td>\n",
       "      <td>Wii</td>\n",
       "      <td>2006-01-01</td>\n",
       "      <td>Sports</td>\n",
       "      <td>41.36</td>\n",
       "      <td>28.96</td>\n",
       "      <td>3.77</td>\n",
       "      <td>8.45</td>\n",
       "      <td>76.0</td>\n",
       "      <td>8.000000</td>\n",
       "      <td>E</td>\n",
       "      <td>82.54</td>\n",
       "    </tr>\n",
       "    <tr>\n",
       "      <th>1</th>\n",
       "      <td>Super Mario Bros.</td>\n",
       "      <td>NES</td>\n",
       "      <td>1985-01-01</td>\n",
       "      <td>Platform</td>\n",
       "      <td>29.08</td>\n",
       "      <td>3.58</td>\n",
       "      <td>6.81</td>\n",
       "      <td>0.77</td>\n",
       "      <td>NaN</td>\n",
       "      <td>7.125046</td>\n",
       "      <td>NaN</td>\n",
       "      <td>40.24</td>\n",
       "    </tr>\n",
       "    <tr>\n",
       "      <th>2</th>\n",
       "      <td>Mario Kart Wii</td>\n",
       "      <td>Wii</td>\n",
       "      <td>2008-01-01</td>\n",
       "      <td>Racing</td>\n",
       "      <td>15.68</td>\n",
       "      <td>12.76</td>\n",
       "      <td>3.79</td>\n",
       "      <td>3.29</td>\n",
       "      <td>82.0</td>\n",
       "      <td>8.300000</td>\n",
       "      <td>E</td>\n",
       "      <td>35.52</td>\n",
       "    </tr>\n",
       "    <tr>\n",
       "      <th>3</th>\n",
       "      <td>Wii Sports Resort</td>\n",
       "      <td>Wii</td>\n",
       "      <td>2009-01-01</td>\n",
       "      <td>Sports</td>\n",
       "      <td>15.61</td>\n",
       "      <td>10.93</td>\n",
       "      <td>3.28</td>\n",
       "      <td>2.95</td>\n",
       "      <td>80.0</td>\n",
       "      <td>8.000000</td>\n",
       "      <td>E</td>\n",
       "      <td>32.77</td>\n",
       "    </tr>\n",
       "    <tr>\n",
       "      <th>4</th>\n",
       "      <td>Pokemon Red/Pokemon Blue</td>\n",
       "      <td>GB</td>\n",
       "      <td>1996-01-01</td>\n",
       "      <td>Role-Playing</td>\n",
       "      <td>11.27</td>\n",
       "      <td>8.89</td>\n",
       "      <td>10.22</td>\n",
       "      <td>1.00</td>\n",
       "      <td>NaN</td>\n",
       "      <td>7.125046</td>\n",
       "      <td>NaN</td>\n",
       "      <td>31.38</td>\n",
       "    </tr>\n",
       "  </tbody>\n",
       "</table>\n",
       "</div>"
      ],
      "text/plain": [
       "                       name platform year_of_release         genre  na_sales  \\\n",
       "0                Wii Sports      Wii      2006-01-01        Sports     41.36   \n",
       "1         Super Mario Bros.      NES      1985-01-01      Platform     29.08   \n",
       "2            Mario Kart Wii      Wii      2008-01-01        Racing     15.68   \n",
       "3         Wii Sports Resort      Wii      2009-01-01        Sports     15.61   \n",
       "4  Pokemon Red/Pokemon Blue       GB      1996-01-01  Role-Playing     11.27   \n",
       "\n",
       "   eu_sales  jp_sales  other_sales  critic_score  user_score rating  \\\n",
       "0     28.96      3.77         8.45          76.0    8.000000      E   \n",
       "1      3.58      6.81         0.77           NaN    7.125046    NaN   \n",
       "2     12.76      3.79         3.29          82.0    8.300000      E   \n",
       "3     10.93      3.28         2.95          80.0    8.000000      E   \n",
       "4      8.89     10.22         1.00           NaN    7.125046    NaN   \n",
       "\n",
       "   total_sales  \n",
       "0        82.54  \n",
       "1        40.24  \n",
       "2        35.52  \n",
       "3        32.77  \n",
       "4        31.38  "
      ]
     },
     "execution_count": 10,
     "metadata": {},
     "output_type": "execute_result"
    }
   ],
   "source": [
    "games.head()"
   ]
  },
  {
   "cell_type": "markdown",
   "metadata": {},
   "source": [
    "**Analisis data**"
   ]
  },
  {
   "cell_type": "code",
   "execution_count": 11,
   "metadata": {},
   "outputs": [
    {
     "name": "stdout",
     "output_type": "stream",
     "text": [
      "year_of_release\n",
      "1980.0       9\n",
      "1981.0      46\n",
      "1982.0      36\n",
      "1983.0      17\n",
      "1984.0      14\n",
      "1985.0      14\n",
      "1986.0      21\n",
      "1987.0      16\n",
      "1988.0      15\n",
      "1989.0      17\n",
      "1990.0      16\n",
      "1991.0      41\n",
      "1992.0      43\n",
      "1993.0      60\n",
      "1994.0     121\n",
      "1995.0     219\n",
      "1996.0     263\n",
      "1997.0     289\n",
      "1998.0     379\n",
      "1999.0     338\n",
      "2000.0     350\n",
      "2001.0     482\n",
      "2002.0     829\n",
      "2003.0     775\n",
      "2004.0     762\n",
      "2005.0     939\n",
      "2006.0    1006\n",
      "2007.0    1197\n",
      "2008.0    1427\n",
      "2009.0    1426\n",
      "2010.0    1255\n",
      "2011.0    1136\n",
      "2012.0     653\n",
      "2013.0     544\n",
      "2014.0     581\n",
      "2015.0     606\n",
      "2016.0     502\n",
      "Name: name, dtype: int64\n"
     ]
    }
   ],
   "source": [
    "# Jumlah Game yang Dirilis per Tahun\n",
    "games_per_year = games.groupby(games['year_of_release'].dt.year)['name'].count()\n",
    "print(games_per_year)"
   ]
  },
  {
   "cell_type": "code",
   "execution_count": 27,
   "metadata": {},
   "outputs": [
    {
     "data": {
      "image/png": "[encoded data removed]",
      "text/plain": [
       "<Figure size 720x432 with 1 Axes>"
      ]
     },
     "metadata": {
      "needs_background": "light"
     },
     "output_type": "display_data"
    }
   ],
   "source": [
    "games_per_year = games.groupby('year_of_release')['name'].count()\n",
    "plt.figure(figsize=(10, 6))\n",
    "plt.plot(games_per_year.index, games_per_year.values, marker='o')\n",
    "plt.title('Number of Games Released per Year')\n",
    "plt.xlabel('Year')\n",
    "plt.ylabel('Number of Games Released')\n",
    "plt.grid(True)\n",
    "plt.show()"
   ]
  },
  {
   "cell_type": "markdown",
   "metadata": {},
   "source": [
    "<div class=\"alert alert-block alert-warning\">\n",
    "\n",
    "<b>Reviewer's comment #1</b> <a class=\"tocSkip\"></a>\n",
    "\n",
    "Tampilkan visualisasi jumlah game yang dirilis per tahun juga ya.\n",
    "</div>"
   ]
  },
  {
   "cell_type": "markdown",
   "metadata": {},
   "source": [
    "<div class=\"alert alert-block alert-info\">\n",
    "<b>Student's comment</b> <a class=\"tocSkip\"></a>\n",
    "    \n",
    "Baik kak. <a class=\"tocSkip\"></a>\n",
    "</div>"
   ]
  },
  {
   "cell_type": "markdown",
   "metadata": {},
   "source": [
    "<div class=\"alert alert-block alert-success\">\n",
    "\n",
    "<b>Reviewer's comment #2</b> <a class=\"tocSkip\"></a>\n",
    "\n",
    "Sip.\n",
    "</div>"
   ]
  },
  {
   "cell_type": "code",
   "execution_count": 12,
   "metadata": {},
   "outputs": [],
   "source": [
    "# Penjualan Berdasarkan Platform dengan total penjualan terbesar\n",
    "top_platform = games.groupby('platform')['total_sales'].sum().sort_values(ascending=False).head(1).index[0]"
   ]
  },
  {
   "cell_type": "code",
   "execution_count": 13,
   "metadata": {},
   "outputs": [
    {
     "data": {
      "image/png": "[encoded data removed]",
      "text/plain": [
       "<Figure size 720x432 with 1 Axes>"
      ]
     },
     "metadata": {
      "needs_background": "light"
     },
     "output_type": "display_data"
    }
   ],
   "source": [
    "# Distribusi penjualan berdasarkan data per tahun untuk platform teratas\n",
    "platform_per_year = games[games['platform'] == top_platform].groupby(games['year_of_release'].dt.year)['total_sales'].sum()\n",
    "platform_sales_per_year.plot(kind='bar', figsize=(10, 6), title=f'Sales Distribution for Platform {top_platform}')\n",
    "plt.xlabel('Year')\n",
    "plt.ylabel('Total Sales')\n",
    "plt.show()"
   ]
  },
  {
   "cell_type": "markdown",
   "metadata": {},
   "source": [
    "<div class=\"alert alert-block alert-success\">\n",
    "\n",
    "<b>Reviewer's comment #1</b> <a class=\"tocSkip\"></a>\n",
    "\n",
    "Oke.\n",
    "</div>"
   ]
  },
  {
   "cell_type": "code",
   "execution_count": 14,
   "metadata": {},
   "outputs": [
    {
     "name": "stdout",
     "output_type": "stream",
     "text": [
      "platform\n",
      "PS2     1255.77\n",
      "X360     971.42\n",
      "PS3      939.65\n",
      "Wii      907.51\n",
      "DS       806.12\n",
      "Name: total_sales, dtype: float64\n"
     ]
    }
   ],
   "source": [
    "# Platform dengan Penjualan Terbanyak\n",
    "top_platforms = games.groupby('platform')['total_sales'].sum().sort_values(ascending=False).head(5)\n",
    "print(top_platforms)"
   ]
  },
  {
   "cell_type": "code",
   "execution_count": 15,
   "metadata": {},
   "outputs": [
    {
     "data": {
      "image/png": "[encoded data removed]",
      "text/plain": [
       "<Figure size 720x432 with 1 Axes>"
      ]
     },
     "metadata": {
      "needs_background": "light"
     },
     "output_type": "display_data"
    }
   ],
   "source": [
    "# Boxplot untuk Penjualan Global Berdasarkan Platform\n",
    "top_platforms = games.groupby('platform')['total_sales'].sum().sort_values(ascending=False).head(5).index\n",
    "top_platform_data = games[games['platform'].isin(top_platforms)]\n",
    "\n",
    "plt.figure(figsize=(10, 6))\n",
    "sns.boxplot(data=top_platform_data, x='platform', y='total_sales')\n",
    "plt.title('Global Sales Distribution by Platform')\n",
    "plt.xlabel('Platform')\n",
    "plt.ylabel('Total Sales')\n",
    "plt.show()"
   ]
  },
  {
   "cell_type": "markdown",
   "metadata": {},
   "source": [
    "<div class=\"alert alert-block alert-success\">\n",
    "\n",
    "<b>Reviewer's comment #1</b> <a class=\"tocSkip\"></a>\n",
    "\n",
    "Oke.\n",
    "</div>"
   ]
  },
  {
   "cell_type": "code",
   "execution_count": 30,
   "metadata": {
    "scrolled": false
   },
   "outputs": [
    {
     "data": {
      "image/png": "[encoded data removed]",
      "text/plain": [
       "<Figure size 720x432 with 1 Axes>"
      ]
     },
     "metadata": {
      "needs_background": "light"
     },
     "output_type": "display_data"
    },
    {
     "name": "stdout",
     "output_type": "stream",
     "text": [
      "Correlation between User Score and Total Sales: 0.08774597609682509\n"
     ]
    }
   ],
   "source": [
    "# Korelasi antara Ulasan dan Penjualan\n",
    "plt.figure(figsize=(10, 6))\n",
    "sns.scatterplot(data=top_platform_data, x='user_score', y='total_sales', alpha=0.5)\n",
    "plt.title('User Reviews vs Total Sales')\n",
    "plt.xlabel('User Score')\n",
    "plt.ylabel('Total Sales')\n",
    "plt.show()\n",
    "\n",
    "correlation = top_platform_data['user_score'].corr(top_platform_data['total_sales'])\n",
    "print(f'Correlation between User Score and Total Sales: {correlation}')"
   ]
  },
  {
   "cell_type": "markdown",
   "metadata": {},
   "source": [
    "<div class=\"alert alert-block alert-warning\">\n",
    "\n",
    "<b>Reviewer's comment #1</b> <a class=\"tocSkip\"></a>\n",
    "\n",
    "Bisa gunakan parameter `alpha` supaya bagian yang padat lebih mudah dilihat.\n",
    "</div>"
   ]
  },
  {
   "cell_type": "markdown",
   "metadata": {},
   "source": [
    "<div class=\"alert alert-block alert-info\">\n",
    "<b>Student's comment</b> <a class=\"tocSkip\"></a>\n",
    "    \n",
    "Baik kak. <a class=\"tocSkip\"></a>\n",
    "</div>"
   ]
  },
  {
   "cell_type": "markdown",
   "metadata": {},
   "source": [
    "<div class=\"alert alert-block alert-success\">\n",
    "\n",
    "<b>Reviewer's comment #2</b> <a class=\"tocSkip\"></a>\n",
    "\n",
    "Sip.\n",
    "</div>"
   ]
  },
  {
   "cell_type": "markdown",
   "metadata": {},
   "source": [
    "Korelasi antara Skor Pengguna (User Score) dan Total Penjualan (Total Sales) sebesar 0.0877 mengindikasikan bahwa hubungan antara kedua variabel ini cukup lemah. Angka korelasi yang mendekati nol menunjukkan bahwa perubahan dalam skor pengguna tidak secara kuat berkaitan dengan perubahan dalam total penjualan."
   ]
  },
  {
   "cell_type": "markdown",
   "metadata": {},
   "source": [
    "membandingkan penjualan game yang sama di platform lain untuk melihat perbedaannya."
   ]
  },
  {
   "cell_type": "code",
   "execution_count": 17,
   "metadata": {},
   "outputs": [
    {
     "name": "stdout",
     "output_type": "stream",
     "text": [
      "genre\n",
      "Action          1744.17\n",
      "Sports          1331.27\n",
      "Shooter         1052.45\n",
      "Role-Playing     934.56\n",
      "Platform         827.77\n",
      "Misc             802.51\n",
      "Racing           728.67\n",
      "Fighting         447.53\n",
      "Simulation       389.97\n",
      "Puzzle           242.57\n",
      "Adventure        237.59\n",
      "Strategy         174.23\n",
      "Name: total_sales, dtype: float64\n"
     ]
    }
   ],
   "source": [
    "# Distribusi Umum Game Berdasarkan Genre\n",
    "genre_sales = games.groupby('genre')['total_sales'].sum().sort_values(ascending=False)\n",
    "print(genre_sales)"
   ]
  },
  {
   "cell_type": "code",
   "execution_count": 31,
   "metadata": {},
   "outputs": [
    {
     "data": {
      "image/png": "[encoded data removed]",
      "text/plain": [
       "<Figure size 720x432 with 1 Axes>"
      ]
     },
     "metadata": {
      "needs_background": "light"
     },
     "output_type": "display_data"
    }
   ],
   "source": [
    "genre_sales = games.groupby('genre')['total_sales'].count()\n",
    "plt.figure(figsize=(10, 6))\n",
    "plt.plot(genre_sales.index, genre_sales.values, marker='o')\n",
    "plt.title('Game distribution by Genre')\n",
    "plt.xlabel('Genre')\n",
    "plt.ylabel('Distribution by genre')\n",
    "plt.grid(True)\n",
    "plt.show()"
   ]
  },
  {
   "cell_type": "markdown",
   "metadata": {},
   "source": [
    "<div class=\"alert alert-block alert-warning\">\n",
    "\n",
    "<b>Reviewer's comment #1</b> <a class=\"tocSkip\"></a>\n",
    "\n",
    "Bisa tampilkan viusualisasi juga ya.\n",
    "</div>"
   ]
  },
  {
   "cell_type": "markdown",
   "metadata": {},
   "source": [
    "<div class=\"alert alert-block alert-info\">\n",
    "<b>Student's comment</b> <a class=\"tocSkip\"></a>\n",
    "    \n",
    "Baik kak. <a class=\"tocSkip\"></a>\n",
    "</div>"
   ]
  },
  {
   "cell_type": "markdown",
   "metadata": {},
   "source": [
    "<div class=\"alert alert-block alert-warning\">\n",
    "\n",
    "<b>Reviewer's comment #2</b> <a class=\"tocSkip\"></a>\n",
    "\n",
    "Oke, tetapi lebih tepat menggunakan bar chart ya.\n",
    "</div>"
   ]
  },
  {
   "cell_type": "markdown",
   "metadata": {},
   "source": [
    "Dari data total penjualan game berdasarkan genre, kita dapat mengamati bahwa genre \"Action\" memiliki total penjualan tertinggi di antara semua genre, diikuti oleh \"Sports\" dan \"Shooter\". Hal ini menunjukkan bahwa game dengan genre \"Action\" cenderung memiliki daya tarik yang lebih besar dan dapat menghasilkan pendapatan yang lebih tinggi.\n",
    "\n",
    "Dalam konteks ini, kita dapat menyimpulkan bahwa genre \"Action\" adalah genre yang paling menguntungkan dalam hal total penjualan."
   ]
  },
  {
   "cell_type": "markdown",
   "metadata": {},
   "source": [
    "**Pemrofilan pengguna untuk masing-masing wilayah**"
   ]
  },
  {
   "cell_type": "code",
   "execution_count": 18,
   "metadata": {},
   "outputs": [],
   "source": [
    "# Identifikasi 5 Platform Teratas di Setiap Wilayah\n",
    "top_platforms_na = games.groupby('platform')['na_sales'].sum().nlargest(5)\n",
    "top_platforms_eu = games.groupby('platform')['eu_sales'].sum().nlargest(5)\n",
    "top_platforms_jp = games.groupby('platform')['jp_sales'].sum().nlargest(5)"
   ]
  },
  {
   "cell_type": "code",
   "execution_count": 19,
   "metadata": {
    "scrolled": false
   },
   "outputs": [
    {
     "name": "stdout",
     "output_type": "stream",
     "text": [
      "Top 5 Platforms in North America:\n",
      "platform\n",
      "X360    602.47\n",
      "PS2     583.84\n",
      "Wii     496.90\n",
      "PS3     393.49\n",
      "DS      382.40\n",
      "Name: na_sales, dtype: float64\n",
      "\n",
      "Top 5 Platforms in Europe:\n",
      "platform\n",
      "PS2     339.29\n",
      "PS3     330.29\n",
      "X360    270.76\n",
      "Wii     262.21\n",
      "PS      213.61\n",
      "Name: eu_sales, dtype: float64\n",
      "\n",
      "Top 5 Platforms in Japan:\n",
      "platform\n",
      "DS      175.57\n",
      "PS      139.82\n",
      "PS2     139.20\n",
      "SNES    116.55\n",
      "3DS     100.67\n",
      "Name: jp_sales, dtype: float64\n"
     ]
    }
   ],
   "source": [
    "print(\"Top 5 Platforms in North America:\")\n",
    "print(top_platforms_na)\n",
    "print(\"\\nTop 5 Platforms in Europe:\")\n",
    "print(top_platforms_eu)\n",
    "print(\"\\nTop 5 Platforms in Japan:\")\n",
    "print(top_platforms_jp)"
   ]
  },
  {
   "cell_type": "markdown",
   "metadata": {},
   "source": [
    "Variasi pangsa pasar dari satu wilayah ke wilayah lainnya dapat dilihat dari perbedaan dalam total penjualan platform-game di setiap wilayah. Berikut adalah beberapa observasi dari data yang telah berikan:\n",
    "\n",
    "1. North America (NA):\n",
    "* Platform yang paling populer di wilayah ini adalah Xbox 360 (X360) dengan total penjualan sekitar 602.47 juta USD.\n",
    "* PlayStation 2 (PS2) dan Wii juga memiliki penjualan yang signifikan, masing-masing sekitar 583.84 juta USD dan 496.90 juta USD.\n",
    "* Tiga dari lima platform teratas memiliki penjualan yang cukup beragam, dengan penjualan tertinggi mencapai lebih dari 600 juta USD.\n",
    "\n",
    "2. Europe:\n",
    "* Platform yang paling populer di wilayah ini adalah PlayStation 2 (PS2) dengan total penjualan sekitar 339.29 juta USD.\n",
    "* PlayStation 3 (PS3) dan Xbox 360 (X360) juga memiliki penjualan yang signifikan, masing-masing sekitar 330.29 juta USD dan 270.76 juta USD.\n",
    "* Seperti di wilayah NA, platform teratas di Eropa juga memiliki penjualan yang beragam.\n",
    "\n",
    "3. Japan:\n",
    "* Platform yang paling populer di wilayah ini adalah Nintendo DS (DS) dengan total penjualan sekitar 175.57 juta USD.\n",
    "* PlayStation (PS) dan PlayStation 2 (PS2) juga memiliki penjualan yang signifikan, masing-masing sekitar 139.82 juta USD dan 139.20 juta USD.\n",
    "* Perbedaan yang menonjol di wilayah ini adalah dominasi platform konsol Nintendo seperti DS dan 3DS, yang menjadi faktor penting dalam pangsa pasar.\n",
    "\n",
    "Variasi tersebut menunjukkan preferensi dan kepopuleran platform yang berbeda di setiap wilayah. Beberapa platform mungkin lebih berhasil di satu wilayah daripada di wilayah lainnya, yang bisa dipengaruhi oleh faktor budaya, pemasaran, dan preferensi lokal."
   ]
  },
  {
   "cell_type": "markdown",
   "metadata": {},
   "source": [
    "<div class=\"alert alert-block alert-success\">\n",
    "\n",
    "<b>Reviewer's comment #1</b> <a class=\"tocSkip\"></a>\n",
    "\n",
    "Sip, analisis sudah sangat lengkap.\n",
    "</div>"
   ]
  },
  {
   "cell_type": "code",
   "execution_count": 20,
   "metadata": {},
   "outputs": [],
   "source": [
    "# Analisis Variasi Pangsa Pasar Platform\n",
    "top_genres_na = games.groupby('genre')['na_sales'].sum().nlargest(5)\n",
    "top_genres_eu = games.groupby('genre')['eu_sales'].sum().nlargest(5)\n",
    "top_genres_jp = games.groupby('genre')['jp_sales'].sum().nlargest(5)"
   ]
  },
  {
   "cell_type": "code",
   "execution_count": 21,
   "metadata": {},
   "outputs": [
    {
     "name": "stdout",
     "output_type": "stream",
     "text": [
      "\n",
      "Top 5 Genres in North America:\n",
      "genre\n",
      "Action      879.01\n",
      "Sports      684.43\n",
      "Shooter     592.24\n",
      "Platform    445.50\n",
      "Misc        407.27\n",
      "Name: na_sales, dtype: float64\n",
      "\n",
      "Top 5 Genres in Europe:\n",
      "genre\n",
      "Action     519.13\n",
      "Sports     376.79\n",
      "Shooter    317.34\n",
      "Racing     236.51\n",
      "Misc       212.74\n",
      "Name: eu_sales, dtype: float64\n",
      "\n",
      "Top 5 Genres in Japan:\n",
      "genre\n",
      "Role-Playing    355.41\n",
      "Action          161.43\n",
      "Sports          135.54\n",
      "Platform        130.83\n",
      "Misc            108.11\n",
      "Name: jp_sales, dtype: float64\n"
     ]
    }
   ],
   "source": [
    "print(\"\\nTop 5 Genres in North America:\")\n",
    "print(top_genres_na)\n",
    "print(\"\\nTop 5 Genres in Europe:\")\n",
    "print(top_genres_eu)\n",
    "print(\"\\nTop 5 Genres in Japan:\")\n",
    "print(top_genres_jp)"
   ]
  },
  {
   "cell_type": "markdown",
   "metadata": {},
   "source": [
    "Perbedaan dalam genre game yang paling populer di berbagai wilayah dapat memberikan wawasan tentang preferensi dan tren permainan di setiap wilayah. Berikut adalah beberapa perbedaan yang dapat diamati dari data tersebut:\n",
    "\n",
    "1. North America (NA):\n",
    "* Genre paling populer di wilayah ini adalah Action dengan total penjualan sekitar 879.01 juta USD.\n",
    "* Sports dan Shooter juga memiliki penjualan yang signifikan, masing-masing sekitar 684.43 juta USD dan 592.24 juta USD.\n",
    "* Genre-game seperti Action dan Shooter yang menawarkan pengalaman bermain yang intens dan kompetitif, serta permainan olahraga (Sports), mendominasi pangsa pasar di NA.\n",
    "\n",
    "2. Europe:\n",
    "* Genre paling populer di wilayah ini adalah Action dengan total penjualan sekitar 519.13 juta USD.\n",
    "* Sports dan Shooter juga memiliki penjualan yang signifikan, masing-masing sekitar 376.79 juta USD dan 317.34 juta USD.\n",
    "* Mirip dengan NA, genre Action dan Shooter tetap populer di Eropa. Namun, penjualan genre olahraga (Sports) tampaknya lebih rendah dibandingkan NA.\n",
    "\n",
    "3. Japan:\n",
    "* Genre yang paling populer di wilayah ini adalah Role-Playing (RPG) dengan total penjualan sekitar 355.41 juta USD.\n",
    "* Genre Action juga memiliki penjualan yang signifikan, sekitar 161.43 juta USD.\n",
    "* RPG memiliki dominasi yang jauh lebih kuat di Jepang dibandingkan dengan wilayah lainnya. Hal ini mencerminkan preferensi pasar Jepang yang lebih cenderung menyukai permainan yang menawarkan alur cerita mendalam dan pengembangan karakter.\n"
   ]
  },
  {
   "cell_type": "markdown",
   "metadata": {},
   "source": [
    "<div class=\"alert alert-block alert-success\">\n",
    "\n",
    "<b>Reviewer's comment #1</b> <a class=\"tocSkip\"></a>\n",
    "\n",
    "Oke.\n",
    "</div>"
   ]
  },
  {
   "cell_type": "code",
   "execution_count": 22,
   "metadata": {},
   "outputs": [],
   "source": [
    "# Analisis Perbedaan Preferensi Genre\n",
    "rating_sales_na = games.groupby('rating')['na_sales'].sum()\n",
    "rating_sales_eu = games.groupby('rating')['eu_sales'].sum()\n",
    "rating_sales_jp = games.groupby('rating')['jp_sales'].sum()"
   ]
  },
  {
   "cell_type": "code",
   "execution_count": 23,
   "metadata": {},
   "outputs": [
    {
     "name": "stdout",
     "output_type": "stream",
     "text": [
      "\n",
      "Rating ESRB Influence on Sales in North America:\n",
      "rating\n",
      "AO         1.26\n",
      "E       1292.99\n",
      "E10+     353.32\n",
      "EC         1.53\n",
      "K-A        2.56\n",
      "M        748.48\n",
      "RP         0.00\n",
      "T        759.75\n",
      "Name: na_sales, dtype: float64\n",
      "\n",
      "Rating ESRB Influence on Sales in Europe:\n",
      "rating\n",
      "AO        0.61\n",
      "E       710.25\n",
      "E10+    188.52\n",
      "EC        0.11\n",
      "K-A       0.27\n",
      "M       483.97\n",
      "RP        0.08\n",
      "T       427.03\n",
      "Name: eu_sales, dtype: float64\n",
      "\n",
      "Rating ESRB Influence on Sales in Japan:\n",
      "rating\n",
      "AO        0.00\n",
      "E       198.11\n",
      "E10+     40.20\n",
      "EC        0.00\n",
      "K-A       1.46\n",
      "M        64.24\n",
      "RP        0.00\n",
      "T       151.40\n",
      "Name: jp_sales, dtype: float64\n"
     ]
    }
   ],
   "source": [
    "print(\"\\nRating ESRB Influence on Sales in North America:\")\n",
    "print(rating_sales_na)\n",
    "print(\"\\nRating ESRB Influence on Sales in Europe:\")\n",
    "print(rating_sales_eu)\n",
    "print(\"\\nRating ESRB Influence on Sales in Japan:\")\n",
    "print(rating_sales_jp)"
   ]
  },
  {
   "cell_type": "markdown",
   "metadata": {},
   "source": [
    "Berdasarkan data, tampak bahwa rating ESRB memiliki pengaruh terhadap penjualan di masing-masing wilayah, terutama di wilayah North America dan Europe. Genre dengan rating \"E\" (Everyone) dan \"M\" (Mature) memiliki total penjualan yang lebih tinggi dibandingkan dengan genre dengan rating lainnya di wilayah tersebut."
   ]
  },
  {
   "cell_type": "markdown",
   "metadata": {},
   "source": [
    "<div class=\"alert alert-block alert-success\">\n",
    "\n",
    "<b>Reviewer's comment #1</b> <a class=\"tocSkip\"></a>\n",
    "\n",
    "Oke.\n",
    "</div>"
   ]
  },
  {
   "cell_type": "markdown",
   "metadata": {},
   "source": [
    "**Pengujian hipotesis**"
   ]
  },
  {
   "cell_type": "markdown",
   "metadata": {},
   "source": [
    "Hipotesis nol (H0): Rata-rata rating pengguna genre Action dan Sports adalah sama.\n",
    "Hipotesis alternatif (H1): Rata-rata rating pengguna genre Action dan Sports berbeda."
   ]
  },
  {
   "cell_type": "markdown",
   "metadata": {},
   "source": [
    "<div class=\"alert alert-block alert-warning\">\n",
    "\n",
    "<b>Reviewer's comment #1</b> <a class=\"tocSkip\"></a>\n",
    "\n",
    "Bisa dilengkapi dengan H1 juga ya.\n",
    "</div>"
   ]
  },
  {
   "cell_type": "markdown",
   "metadata": {},
   "source": [
    "<div class=\"alert alert-block alert-info\">\n",
    "<b>Student's comment</b> <a class=\"tocSkip\"></a>\n",
    "    \n",
    "Baik kak. <a class=\"tocSkip\"></a>\n",
    "</div>"
   ]
  },
  {
   "cell_type": "markdown",
   "metadata": {},
   "source": [
    "<div class=\"alert alert-block alert-success\">\n",
    "\n",
    "<b>Reviewer's comment #2</b> <a class=\"tocSkip\"></a>\n",
    "\n",
    "Sip.\n",
    "</div>"
   ]
  },
  {
   "cell_type": "code",
   "execution_count": 24,
   "metadata": {},
   "outputs": [
    {
     "name": "stdout",
     "output_type": "stream",
     "text": [
      "T-Statistic: -4.456527012373293\n",
      "P-Value: 1.0718459399074415e-05\n",
      "Kita dapat menolak hipotesis nol. Terdapat cukup bukti statistik bahwa rata-rata rating pengguna platform Xbox One dan PC berbeda.\n"
     ]
    }
   ],
   "source": [
    "# Filter data untuk platform Xbox One dan PC\n",
    "xbox_one_ratings = games[games['platform'] == 'XOne']['user_score']\n",
    "pc_ratings = games[games['platform'] == 'PC']['user_score']\n",
    "\n",
    "# Lakukan uji t-test\n",
    "alpha = 0.05\n",
    "results = ttest_ind(xbox_one_ratings, pc_ratings, equal_var=False)\n",
    "\n",
    "# Cetak hasil uji t-test\n",
    "print(\"T-Statistic:\", results.statistic)\n",
    "print(\"P-Value:\", results.pvalue)\n",
    "\n",
    "# Interpretasi hasil\n",
    "if results.pvalue < alpha:\n",
    "    print(\"Kita dapat menolak hipotesis nol. Terdapat cukup bukti statistik bahwa rata-rata rating pengguna platform Xbox One dan PC berbeda.\")\n",
    "else:\n",
    "    print(\"Tidak cukup bukti statistik untuk menolak hipotesis nol. Rata-rata rating pengguna platform Xbox One dan PC tidak berbeda secara signifikan.\")"
   ]
  },
  {
   "cell_type": "markdown",
   "metadata": {},
   "source": [
    "Hipotesis nol (H0): Rata-rata rating pengguna genre Action dan Sports adalah sama.\n",
    "Hipotesis alternatif (H1): Rata-rata rating pengguna genre Action dan Sports berbeda."
   ]
  },
  {
   "cell_type": "markdown",
   "metadata": {},
   "source": [
    "<div class=\"alert alert-block alert-warning\">\n",
    "\n",
    "<b>Reviewer's comment #1</b> <a class=\"tocSkip\"></a>\n",
    "\n",
    "Bisa dilengkapi dengan H0 juga ya.\n",
    "</div>"
   ]
  },
  {
   "cell_type": "markdown",
   "metadata": {},
   "source": [
    "<div class=\"alert alert-block alert-info\">\n",
    "<b>Student's comment</b> <a class=\"tocSkip\"></a>\n",
    "    \n",
    "Baik kak. <a class=\"tocSkip\"></a>\n",
    "</div>"
   ]
  },
  {
   "cell_type": "markdown",
   "metadata": {},
   "source": [
    "<div class=\"alert alert-block alert-success\">\n",
    "\n",
    "<b>Reviewer's comment #2</b> <a class=\"tocSkip\"></a>\n",
    "\n",
    "Sip.\n",
    "</div>"
   ]
  },
  {
   "cell_type": "code",
   "execution_count": 25,
   "metadata": {},
   "outputs": [
    {
     "name": "stdout",
     "output_type": "stream",
     "text": [
      "T-Statistic: 1.317231993101424\n",
      "P-Value: 0.18782272416195633\n",
      "Tidak cukup bukti statistik untuk menolak hipotesis nol. Rata-rata rating pengguna genre Action dan Sports tidak berbeda secara signifikan.\n"
     ]
    }
   ],
   "source": [
    "# Filter data untuk genre Action dan Sports\n",
    "action_ratings = games[games['genre'] == 'Action']['user_score']\n",
    "sports_ratings = games[games['genre'] == 'Sports']['user_score']\n",
    "\n",
    "# Lakukan uji t-test\n",
    "results_genre = ttest_ind(action_ratings, sports_ratings, equal_var=False)\n",
    "\n",
    "# Cetak hasil uji t-test\n",
    "print(\"T-Statistic:\", results_genre.statistic)\n",
    "print(\"P-Value:\", results_genre.pvalue)\n",
    "\n",
    "# Interpretasi hasil\n",
    "if results_genre.pvalue < alpha:\n",
    "    print(\"Kita dapat menolak hipotesis nol. Terdapat cukup bukti statistik bahwa rata-rata rating pengguna genre Action dan Sports berbeda.\")\n",
    "else:\n",
    "    print(\"Tidak cukup bukti statistik untuk menolak hipotesis nol. Rata-rata rating pengguna genre Action dan Sports tidak berbeda secara signifikan.\")"
   ]
  },
  {
   "cell_type": "markdown",
   "metadata": {},
   "source": [
    "**Kesimpulan Umum**\n",
    "\n",
    "Dalam proyek ini, saya menganalisis data penjualan video game dari tahun 2016 dengan tujuan untuk mengidentifikasi pola-pola yang dapat mempengaruhi kesuksesan suatu game. Saya melakukan analisis berdasarkan beberapa aspek, termasuk platform, genre, ulasan pengguna, dan rating ESRB.\n",
    "\n",
    "1. Platform dan Penjualan:\n",
    "    Saya menemukan bahwa platform-platform dengan penjualan tertinggi adalah PS2, X360, dan PS3. Platform-platform ini memiliki perbedaan pangsa pasar yang signifikan di berbagai wilayah, dengan preferensi yang bervariasi. Xbox 360 (X360) memiliki penjualan terbanyak di Amerika Utara, sementara PlayStation 2 (PS2) mendominasi penjualan di Eropa. Di Jepang, Nintendo DS (DS) adalah platform terkemuka. Saya juga melihat bahwa popularitas platform-platform tertentu berubah seiring waktu.\n",
    "\n",
    "2. Genre dan Penjualan:\n",
    "    Genre-genre yang paling menguntungkan adalah Action, Sports, dan Shooter. Namun, preferensi genre juga bervariasi di berbagai wilayah. Genre Action mendominasi penjualan di Amerika Utara dan Eropa, sementara Role-Playing (RPG) menjadi genre paling populer di Jepang. Distribusi genre yang menguntungkan bisa menjadi panduan bagi pengembang untuk menargetkan pasar yang sesuai.\n",
    "\n",
    "3. Ulasan Pengguna dan Penjualan:\n",
    "    Korelasi antara ulasan pengguna dengan penjualan tidak begitu signifikan, dengan koefisien korelasi sekitar 0.09. Ini menunjukkan bahwa ulasan pengguna tidak selalu menjadi faktor utama dalam menentukan kesuksesan penjualan suatu game. Namun, kita perlu lebih mendalami faktor-faktor lain yang mungkin mempengaruhi penjualan.\n",
    "\n",
    "4. Rating ESRB dan Penjualan:\n",
    "    Saya menemukan bahwa rating ESRB tidak memiliki pengaruh yang konsisten pada penjualan di berbagai wilayah. Terdapat perbedaan dalam pengaruh rating terhadap penjualan di Amerika Utara, Eropa, dan Jepang. Namun, tidak dapat disimpulkan bahwa rating ESRB secara signifikan memengaruhi tingkat penjualan secara umum.\n",
    "\n",
    "Kesimpulannya, kesuksesan suatu game tidak hanya bergantung pada satu faktor tunggal, melainkan merupakan hasil dari berbagai aspek seperti platform, genre, ulasan pengguna, dan rating ESRB. Pengembang perlu mempertimbangkan preferensi pasar di berbagai wilayah dan berbagai faktor lainnya dalam merencanakan pengembangan dan pemasaran game.\n",
    "\n",
    "Dalam melaksanakan proyek ini, saya melakukan analisis statistik dan visualisasi data untuk mendapatkan wawasan yang lebih mendalam. Analisis ini dapat menjadi landasan bagi pengambilan keputusan dalam merencanakan kampanye pemasaran game di tahun 2017."
   ]
  },
  {
   "cell_type": "markdown",
   "metadata": {},
   "source": [
    "<div class=\"alert alert-block alert-success\">\n",
    "\n",
    "<b>Reviewer's comment #1</b> <a class=\"tocSkip\"></a>\n",
    "\n",
    "Kesimpulan sudah lengkap.\n",
    "</div>"
   ]
  },
  {
   "cell_type": "code",
   "execution_count": null,
   "metadata": {},
   "outputs": [],
   "source": []
  }
 ],
 "metadata": {
  "kernelspec": {
   "display_name": "Python 3 (ipykernel)",
   "language": "python",
   "name": "python3"
  },
  "language_info": {
   "codemirror_mode": {
    "name": "ipython",
    "version": 3
   },
   "file_extension": ".py",
   "mimetype": "text/x-python",
   "name": "python",
   "nbconvert_exporter": "python",
   "pygments_lexer": "ipython3",
   "version": "3.9.19"
  },
  "toc": {
   "base_numbering": 1,
   "nav_menu": {},
   "number_sections": true,
   "sideBar": true,
   "skip_h1_title": true,
   "title_cell": "Table of Contents",
   "title_sidebar": "Contents",
   "toc_cell": false,
   "toc_position": {},
   "toc_section_display": true,
   "toc_window_display": false
  }
 },
 "nbformat": 4,
 "nbformat_minor": 2
}
